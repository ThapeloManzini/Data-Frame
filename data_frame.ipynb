{
 "cells": [
  {
   "cell_type": "markdown",
   "metadata": {
    "id": "GRjEmeRsfncc"
   },
   "source": [
    "# **Problem Statement**\n",
    "## The world population data spans from 1960 to 2017. We want to develop a prediction model that can provide the most accurate estimation of the current or historical population of a specific nation. Use the two CSV files to answer the questions."
   ]
  },
  {
   "cell_type": "markdown",
   "metadata": {
    "id": "PMnuwTlvUPK2"
   },
   "source": [
    "# **Question 1**\n",
    "## Create a function that accepts a **`country name`** as input and returns a dataframe with the `measured population` and the `year`."
   ]
  },
  {
   "cell_type": "code",
   "execution_count": 1,
   "metadata": {
    "collapsed": true,
    "id": "AvU-Q_fcULvz"
   },
   "outputs": [],
   "source": [
    "import pandas as pd\n",
    "import numpy as np\n",
    "import matplotlib.pyplot as plt\n",
    "import seaborn as sns\n",
    "from sklearn.linear_model import Ridge\n",
    "from sklearn.model_selection import train_test_split"
   ]
  },
  {
   "cell_type": "code",
   "execution_count": 2,
   "metadata": {
    "id": "DGYkcJFgVmGl"
   },
   "outputs": [
    {
     "data": {
      "text/plain": [
       "'C:\\\\Users\\\\NWUUSER\\\\Downloads\\\\CISM623 Practical Lab 1Sub'"
      ]
     },
     "execution_count": 2,
     "metadata": {},
     "output_type": "execute_result"
    }
   ],
   "source": [
    "pwd"
   ]
  },
  {
   "cell_type": "code",
   "execution_count": 5,
   "metadata": {
    "id": "w4GONL9GVmDt"
   },
   "outputs": [],
   "source": [
    "df_population=pd.read_csv(r\"C:\\Users\\NWUUSER\\Downloads\\CISM623 Practical Lab 1Sub\\countries.csv\")\n",
    "df_countries= pd.read_csv(r\"C:\\Users\\NWUUSER\\Downloads\\CISM623 Practical Lab 1Sub\\world_population.csv\")"
   ]
  },
  {
   "cell_type": "code",
   "execution_count": 6,
   "metadata": {},
   "outputs": [
    {
     "data": {
      "text/html": [
       "<div>\n",
       "<style>\n",
       "    .dataframe thead tr:only-child th {\n",
       "        text-align: right;\n",
       "    }\n",
       "\n",
       "    .dataframe thead th {\n",
       "        text-align: left;\n",
       "    }\n",
       "\n",
       "    .dataframe tbody tr th {\n",
       "        vertical-align: top;\n",
       "    }\n",
       "</style>\n",
       "<table border=\"1\" class=\"dataframe\">\n",
       "  <thead>\n",
       "    <tr style=\"text-align: right;\">\n",
       "      <th></th>\n",
       "      <th>Country Name</th>\n",
       "    </tr>\n",
       "  </thead>\n",
       "  <tbody>\n",
       "    <tr>\n",
       "      <th>0</th>\n",
       "      <td>Aruba</td>\n",
       "    </tr>\n",
       "    <tr>\n",
       "      <th>1</th>\n",
       "      <td>Afghanistan</td>\n",
       "    </tr>\n",
       "    <tr>\n",
       "      <th>2</th>\n",
       "      <td>Angola</td>\n",
       "    </tr>\n",
       "    <tr>\n",
       "      <th>3</th>\n",
       "      <td>Albania</td>\n",
       "    </tr>\n",
       "    <tr>\n",
       "      <th>4</th>\n",
       "      <td>Andorra</td>\n",
       "    </tr>\n",
       "  </tbody>\n",
       "</table>\n",
       "</div>"
      ],
      "text/plain": [
       "  Country Name\n",
       "0        Aruba\n",
       "1  Afghanistan\n",
       "2       Angola\n",
       "3      Albania\n",
       "4      Andorra"
      ]
     },
     "execution_count": 6,
     "metadata": {},
     "output_type": "execute_result"
    }
   ],
   "source": [
    "df_population.head()"
   ]
  },
  {
   "cell_type": "code",
   "execution_count": 7,
   "metadata": {},
   "outputs": [
    {
     "data": {
      "text/html": [
       "<div>\n",
       "<style>\n",
       "    .dataframe thead tr:only-child th {\n",
       "        text-align: right;\n",
       "    }\n",
       "\n",
       "    .dataframe thead th {\n",
       "        text-align: left;\n",
       "    }\n",
       "\n",
       "    .dataframe tbody tr th {\n",
       "        vertical-align: top;\n",
       "    }\n",
       "</style>\n",
       "<table border=\"1\" class=\"dataframe\">\n",
       "  <thead>\n",
       "    <tr style=\"text-align: right;\">\n",
       "      <th></th>\n",
       "      <th>1960</th>\n",
       "      <th>1961</th>\n",
       "      <th>1962</th>\n",
       "      <th>1963</th>\n",
       "      <th>1964</th>\n",
       "      <th>1965</th>\n",
       "      <th>1966</th>\n",
       "      <th>1967</th>\n",
       "      <th>1968</th>\n",
       "      <th>1969</th>\n",
       "      <th>...</th>\n",
       "      <th>2008</th>\n",
       "      <th>2009</th>\n",
       "      <th>2010</th>\n",
       "      <th>2011</th>\n",
       "      <th>2012</th>\n",
       "      <th>2013</th>\n",
       "      <th>2014</th>\n",
       "      <th>2015</th>\n",
       "      <th>2016</th>\n",
       "      <th>2017</th>\n",
       "    </tr>\n",
       "  </thead>\n",
       "  <tbody>\n",
       "    <tr>\n",
       "      <th>0</th>\n",
       "      <td>54211.0</td>\n",
       "      <td>55438.0</td>\n",
       "      <td>56225.0</td>\n",
       "      <td>56695.0</td>\n",
       "      <td>57032.0</td>\n",
       "      <td>57360.0</td>\n",
       "      <td>57715.0</td>\n",
       "      <td>58055.0</td>\n",
       "      <td>58386.0</td>\n",
       "      <td>58726.0</td>\n",
       "      <td>...</td>\n",
       "      <td>101353.0</td>\n",
       "      <td>101453.0</td>\n",
       "      <td>101669.0</td>\n",
       "      <td>102053.0</td>\n",
       "      <td>102577.0</td>\n",
       "      <td>103187.0</td>\n",
       "      <td>103795.0</td>\n",
       "      <td>104341.0</td>\n",
       "      <td>104822.0</td>\n",
       "      <td>105264.0</td>\n",
       "    </tr>\n",
       "    <tr>\n",
       "      <th>1</th>\n",
       "      <td>8996351.0</td>\n",
       "      <td>9166764.0</td>\n",
       "      <td>9345868.0</td>\n",
       "      <td>9533954.0</td>\n",
       "      <td>9731361.0</td>\n",
       "      <td>9938414.0</td>\n",
       "      <td>10152331.0</td>\n",
       "      <td>10372630.0</td>\n",
       "      <td>10604346.0</td>\n",
       "      <td>10854428.0</td>\n",
       "      <td>...</td>\n",
       "      <td>27294031.0</td>\n",
       "      <td>28004331.0</td>\n",
       "      <td>28803167.0</td>\n",
       "      <td>29708599.0</td>\n",
       "      <td>30696958.0</td>\n",
       "      <td>31731688.0</td>\n",
       "      <td>32758020.0</td>\n",
       "      <td>33736494.0</td>\n",
       "      <td>34656032.0</td>\n",
       "      <td>35530081.0</td>\n",
       "    </tr>\n",
       "    <tr>\n",
       "      <th>2</th>\n",
       "      <td>5643182.0</td>\n",
       "      <td>5753024.0</td>\n",
       "      <td>5866061.0</td>\n",
       "      <td>5980417.0</td>\n",
       "      <td>6093321.0</td>\n",
       "      <td>6203299.0</td>\n",
       "      <td>6309770.0</td>\n",
       "      <td>6414995.0</td>\n",
       "      <td>6523791.0</td>\n",
       "      <td>6642632.0</td>\n",
       "      <td>...</td>\n",
       "      <td>21759420.0</td>\n",
       "      <td>22549547.0</td>\n",
       "      <td>23369131.0</td>\n",
       "      <td>24218565.0</td>\n",
       "      <td>25096150.0</td>\n",
       "      <td>25998340.0</td>\n",
       "      <td>26920466.0</td>\n",
       "      <td>27859305.0</td>\n",
       "      <td>28813463.0</td>\n",
       "      <td>29784193.0</td>\n",
       "    </tr>\n",
       "    <tr>\n",
       "      <th>3</th>\n",
       "      <td>1608800.0</td>\n",
       "      <td>1659800.0</td>\n",
       "      <td>1711319.0</td>\n",
       "      <td>1762621.0</td>\n",
       "      <td>1814135.0</td>\n",
       "      <td>1864791.0</td>\n",
       "      <td>1914573.0</td>\n",
       "      <td>1965598.0</td>\n",
       "      <td>2022272.0</td>\n",
       "      <td>2081695.0</td>\n",
       "      <td>...</td>\n",
       "      <td>2947314.0</td>\n",
       "      <td>2927519.0</td>\n",
       "      <td>2913021.0</td>\n",
       "      <td>2905195.0</td>\n",
       "      <td>2900401.0</td>\n",
       "      <td>2895092.0</td>\n",
       "      <td>2889104.0</td>\n",
       "      <td>2880703.0</td>\n",
       "      <td>2876101.0</td>\n",
       "      <td>2873457.0</td>\n",
       "    </tr>\n",
       "    <tr>\n",
       "      <th>4</th>\n",
       "      <td>13411.0</td>\n",
       "      <td>14375.0</td>\n",
       "      <td>15370.0</td>\n",
       "      <td>16412.0</td>\n",
       "      <td>17469.0</td>\n",
       "      <td>18549.0</td>\n",
       "      <td>19647.0</td>\n",
       "      <td>20758.0</td>\n",
       "      <td>21890.0</td>\n",
       "      <td>23058.0</td>\n",
       "      <td>...</td>\n",
       "      <td>83861.0</td>\n",
       "      <td>84462.0</td>\n",
       "      <td>84449.0</td>\n",
       "      <td>83751.0</td>\n",
       "      <td>82431.0</td>\n",
       "      <td>80788.0</td>\n",
       "      <td>79223.0</td>\n",
       "      <td>78014.0</td>\n",
       "      <td>77281.0</td>\n",
       "      <td>76965.0</td>\n",
       "    </tr>\n",
       "  </tbody>\n",
       "</table>\n",
       "<p>5 rows × 58 columns</p>\n",
       "</div>"
      ],
      "text/plain": [
       "        1960       1961       1962       1963       1964       1965  \\\n",
       "0    54211.0    55438.0    56225.0    56695.0    57032.0    57360.0   \n",
       "1  8996351.0  9166764.0  9345868.0  9533954.0  9731361.0  9938414.0   \n",
       "2  5643182.0  5753024.0  5866061.0  5980417.0  6093321.0  6203299.0   \n",
       "3  1608800.0  1659800.0  1711319.0  1762621.0  1814135.0  1864791.0   \n",
       "4    13411.0    14375.0    15370.0    16412.0    17469.0    18549.0   \n",
       "\n",
       "         1966        1967        1968        1969     ...            2008  \\\n",
       "0     57715.0     58055.0     58386.0     58726.0     ...        101353.0   \n",
       "1  10152331.0  10372630.0  10604346.0  10854428.0     ...      27294031.0   \n",
       "2   6309770.0   6414995.0   6523791.0   6642632.0     ...      21759420.0   \n",
       "3   1914573.0   1965598.0   2022272.0   2081695.0     ...       2947314.0   \n",
       "4     19647.0     20758.0     21890.0     23058.0     ...         83861.0   \n",
       "\n",
       "         2009        2010        2011        2012        2013        2014  \\\n",
       "0    101453.0    101669.0    102053.0    102577.0    103187.0    103795.0   \n",
       "1  28004331.0  28803167.0  29708599.0  30696958.0  31731688.0  32758020.0   \n",
       "2  22549547.0  23369131.0  24218565.0  25096150.0  25998340.0  26920466.0   \n",
       "3   2927519.0   2913021.0   2905195.0   2900401.0   2895092.0   2889104.0   \n",
       "4     84462.0     84449.0     83751.0     82431.0     80788.0     79223.0   \n",
       "\n",
       "         2015        2016        2017  \n",
       "0    104341.0    104822.0    105264.0  \n",
       "1  33736494.0  34656032.0  35530081.0  \n",
       "2  27859305.0  28813463.0  29784193.0  \n",
       "3   2880703.0   2876101.0   2873457.0  \n",
       "4     78014.0     77281.0     76965.0  \n",
       "\n",
       "[5 rows x 58 columns]"
      ]
     },
     "execution_count": 7,
     "metadata": {},
     "output_type": "execute_result"
    }
   ],
   "source": [
    "df_countries.head()"
   ]
  },
  {
   "cell_type": "code",
   "execution_count": 8,
   "metadata": {},
   "outputs": [
    {
     "data": {
      "text/html": [
       "<div>\n",
       "<style>\n",
       "    .dataframe thead tr:only-child th {\n",
       "        text-align: right;\n",
       "    }\n",
       "\n",
       "    .dataframe thead th {\n",
       "        text-align: left;\n",
       "    }\n",
       "\n",
       "    .dataframe tbody tr th {\n",
       "        vertical-align: top;\n",
       "    }\n",
       "</style>\n",
       "<table border=\"1\" class=\"dataframe\">\n",
       "  <thead>\n",
       "    <tr style=\"text-align: right;\">\n",
       "      <th></th>\n",
       "      <th>Country Name</th>\n",
       "      <th>1960</th>\n",
       "      <th>1961</th>\n",
       "      <th>1962</th>\n",
       "      <th>1963</th>\n",
       "      <th>1964</th>\n",
       "      <th>1965</th>\n",
       "      <th>1966</th>\n",
       "      <th>1967</th>\n",
       "      <th>1968</th>\n",
       "      <th>...</th>\n",
       "      <th>2008</th>\n",
       "      <th>2009</th>\n",
       "      <th>2010</th>\n",
       "      <th>2011</th>\n",
       "      <th>2012</th>\n",
       "      <th>2013</th>\n",
       "      <th>2014</th>\n",
       "      <th>2015</th>\n",
       "      <th>2016</th>\n",
       "      <th>2017</th>\n",
       "    </tr>\n",
       "  </thead>\n",
       "  <tbody>\n",
       "    <tr>\n",
       "      <th>0</th>\n",
       "      <td>Aruba</td>\n",
       "      <td>54211.0</td>\n",
       "      <td>55438.0</td>\n",
       "      <td>56225.0</td>\n",
       "      <td>56695.0</td>\n",
       "      <td>57032.0</td>\n",
       "      <td>57360.0</td>\n",
       "      <td>57715.0</td>\n",
       "      <td>58055.0</td>\n",
       "      <td>58386.0</td>\n",
       "      <td>...</td>\n",
       "      <td>101353.0</td>\n",
       "      <td>101453.0</td>\n",
       "      <td>101669.0</td>\n",
       "      <td>102053.0</td>\n",
       "      <td>102577.0</td>\n",
       "      <td>103187.0</td>\n",
       "      <td>103795.0</td>\n",
       "      <td>104341.0</td>\n",
       "      <td>104822.0</td>\n",
       "      <td>105264.0</td>\n",
       "    </tr>\n",
       "    <tr>\n",
       "      <th>1</th>\n",
       "      <td>Afghanistan</td>\n",
       "      <td>8996351.0</td>\n",
       "      <td>9166764.0</td>\n",
       "      <td>9345868.0</td>\n",
       "      <td>9533954.0</td>\n",
       "      <td>9731361.0</td>\n",
       "      <td>9938414.0</td>\n",
       "      <td>10152331.0</td>\n",
       "      <td>10372630.0</td>\n",
       "      <td>10604346.0</td>\n",
       "      <td>...</td>\n",
       "      <td>27294031.0</td>\n",
       "      <td>28004331.0</td>\n",
       "      <td>28803167.0</td>\n",
       "      <td>29708599.0</td>\n",
       "      <td>30696958.0</td>\n",
       "      <td>31731688.0</td>\n",
       "      <td>32758020.0</td>\n",
       "      <td>33736494.0</td>\n",
       "      <td>34656032.0</td>\n",
       "      <td>35530081.0</td>\n",
       "    </tr>\n",
       "    <tr>\n",
       "      <th>2</th>\n",
       "      <td>Angola</td>\n",
       "      <td>5643182.0</td>\n",
       "      <td>5753024.0</td>\n",
       "      <td>5866061.0</td>\n",
       "      <td>5980417.0</td>\n",
       "      <td>6093321.0</td>\n",
       "      <td>6203299.0</td>\n",
       "      <td>6309770.0</td>\n",
       "      <td>6414995.0</td>\n",
       "      <td>6523791.0</td>\n",
       "      <td>...</td>\n",
       "      <td>21759420.0</td>\n",
       "      <td>22549547.0</td>\n",
       "      <td>23369131.0</td>\n",
       "      <td>24218565.0</td>\n",
       "      <td>25096150.0</td>\n",
       "      <td>25998340.0</td>\n",
       "      <td>26920466.0</td>\n",
       "      <td>27859305.0</td>\n",
       "      <td>28813463.0</td>\n",
       "      <td>29784193.0</td>\n",
       "    </tr>\n",
       "    <tr>\n",
       "      <th>3</th>\n",
       "      <td>Albania</td>\n",
       "      <td>1608800.0</td>\n",
       "      <td>1659800.0</td>\n",
       "      <td>1711319.0</td>\n",
       "      <td>1762621.0</td>\n",
       "      <td>1814135.0</td>\n",
       "      <td>1864791.0</td>\n",
       "      <td>1914573.0</td>\n",
       "      <td>1965598.0</td>\n",
       "      <td>2022272.0</td>\n",
       "      <td>...</td>\n",
       "      <td>2947314.0</td>\n",
       "      <td>2927519.0</td>\n",
       "      <td>2913021.0</td>\n",
       "      <td>2905195.0</td>\n",
       "      <td>2900401.0</td>\n",
       "      <td>2895092.0</td>\n",
       "      <td>2889104.0</td>\n",
       "      <td>2880703.0</td>\n",
       "      <td>2876101.0</td>\n",
       "      <td>2873457.0</td>\n",
       "    </tr>\n",
       "    <tr>\n",
       "      <th>4</th>\n",
       "      <td>Andorra</td>\n",
       "      <td>13411.0</td>\n",
       "      <td>14375.0</td>\n",
       "      <td>15370.0</td>\n",
       "      <td>16412.0</td>\n",
       "      <td>17469.0</td>\n",
       "      <td>18549.0</td>\n",
       "      <td>19647.0</td>\n",
       "      <td>20758.0</td>\n",
       "      <td>21890.0</td>\n",
       "      <td>...</td>\n",
       "      <td>83861.0</td>\n",
       "      <td>84462.0</td>\n",
       "      <td>84449.0</td>\n",
       "      <td>83751.0</td>\n",
       "      <td>82431.0</td>\n",
       "      <td>80788.0</td>\n",
       "      <td>79223.0</td>\n",
       "      <td>78014.0</td>\n",
       "      <td>77281.0</td>\n",
       "      <td>76965.0</td>\n",
       "    </tr>\n",
       "  </tbody>\n",
       "</table>\n",
       "<p>5 rows × 59 columns</p>\n",
       "</div>"
      ],
      "text/plain": [
       "  Country Name       1960       1961       1962       1963       1964  \\\n",
       "0        Aruba    54211.0    55438.0    56225.0    56695.0    57032.0   \n",
       "1  Afghanistan  8996351.0  9166764.0  9345868.0  9533954.0  9731361.0   \n",
       "2       Angola  5643182.0  5753024.0  5866061.0  5980417.0  6093321.0   \n",
       "3      Albania  1608800.0  1659800.0  1711319.0  1762621.0  1814135.0   \n",
       "4      Andorra    13411.0    14375.0    15370.0    16412.0    17469.0   \n",
       "\n",
       "        1965        1966        1967        1968     ...            2008  \\\n",
       "0    57360.0     57715.0     58055.0     58386.0     ...        101353.0   \n",
       "1  9938414.0  10152331.0  10372630.0  10604346.0     ...      27294031.0   \n",
       "2  6203299.0   6309770.0   6414995.0   6523791.0     ...      21759420.0   \n",
       "3  1864791.0   1914573.0   1965598.0   2022272.0     ...       2947314.0   \n",
       "4    18549.0     19647.0     20758.0     21890.0     ...         83861.0   \n",
       "\n",
       "         2009        2010        2011        2012        2013        2014  \\\n",
       "0    101453.0    101669.0    102053.0    102577.0    103187.0    103795.0   \n",
       "1  28004331.0  28803167.0  29708599.0  30696958.0  31731688.0  32758020.0   \n",
       "2  22549547.0  23369131.0  24218565.0  25096150.0  25998340.0  26920466.0   \n",
       "3   2927519.0   2913021.0   2905195.0   2900401.0   2895092.0   2889104.0   \n",
       "4     84462.0     84449.0     83751.0     82431.0     80788.0     79223.0   \n",
       "\n",
       "         2015        2016        2017  \n",
       "0    104341.0    104822.0    105264.0  \n",
       "1  33736494.0  34656032.0  35530081.0  \n",
       "2  27859305.0  28813463.0  29784193.0  \n",
       "3   2880703.0   2876101.0   2873457.0  \n",
       "4     78014.0     77281.0     76965.0  \n",
       "\n",
       "[5 rows x 59 columns]"
      ]
     },
     "execution_count": 8,
     "metadata": {},
     "output_type": "execute_result"
    }
   ],
   "source": [
    "df_population=pd.read_csv(r\"C:\\Users\\NWUUSER\\Downloads\\CISM623 Practical Lab 1k\\countries.csv\" )\n",
    "df_countries= pd.read_csv(r\"C:\\Users\\NWUUSER\\Downloads\\CISM623 Practical Lab 1k\\world_population.csv\")\n",
    "merged = pd.concat([df_population, df_countries], axis = 1 )\n",
    "merged.to_csv('merged.csv', index = False)\n",
    "merged.head()"
   ]
  },
  {
   "cell_type": "code",
   "execution_count": 9,
   "metadata": {
    "collapsed": true
   },
   "outputs": [],
   "source": [
    "def year_population(name_of_country):\n",
    "    # write your code here\n",
    "    new2 = merged[merged['Country Name'] == name_of_country].T.reset_index()[1:]\n",
    "    new2['index'] = new2['index'].apply(int)\n",
    "\n",
    "    return np.array(new2)"
   ]
  },
  {
   "cell_type": "code",
   "execution_count": 10,
   "metadata": {},
   "outputs": [
    {
     "data": {
      "text/plain": [
       "array([[1960, 54211.0],\n",
       "       [1961, 55438.0],\n",
       "       [1962, 56225.0],\n",
       "       [1963, 56695.0],\n",
       "       [1964, 57032.0],\n",
       "       [1965, 57360.0],\n",
       "       [1966, 57715.0],\n",
       "       [1967, 58055.0],\n",
       "       [1968, 58386.0],\n",
       "       [1969, 58726.0],\n",
       "       [1970, 59063.0],\n",
       "       [1971, 59440.0],\n",
       "       [1972, 59840.0],\n",
       "       [1973, 60243.0],\n",
       "       [1974, 60528.0],\n",
       "       [1975, 60657.0],\n",
       "       [1976, 60586.0],\n",
       "       [1977, 60366.0],\n",
       "       [1978, 60103.0],\n",
       "       [1979, 59980.0],\n",
       "       [1980, 60096.0],\n",
       "       [1981, 60567.0],\n",
       "       [1982, 61345.0],\n",
       "       [1983, 62201.0],\n",
       "       [1984, 62836.0],\n",
       "       [1985, 63026.0],\n",
       "       [1986, 62644.0],\n",
       "       [1987, 61833.0],\n",
       "       [1988, 61079.0],\n",
       "       [1989, 61032.0],\n",
       "       [1990, 62149.0],\n",
       "       [1991, 64622.0],\n",
       "       [1992, 68235.0],\n",
       "       [1993, 72504.0],\n",
       "       [1994, 76700.0],\n",
       "       [1995, 80324.0],\n",
       "       [1996, 83200.0],\n",
       "       [1997, 85451.0],\n",
       "       [1998, 87277.0],\n",
       "       [1999, 89005.0],\n",
       "       [2000, 90853.0],\n",
       "       [2001, 92898.0],\n",
       "       [2002, 94992.0],\n",
       "       [2003, 97017.0],\n",
       "       [2004, 98737.0],\n",
       "       [2005, 100031.0],\n",
       "       [2006, 100832.0],\n",
       "       [2007, 101220.0],\n",
       "       [2008, 101353.0],\n",
       "       [2009, 101453.0],\n",
       "       [2010, 101669.0],\n",
       "       [2011, 102053.0],\n",
       "       [2012, 102577.0],\n",
       "       [2013, 103187.0],\n",
       "       [2014, 103795.0],\n",
       "       [2015, 104341.0],\n",
       "       [2016, 104822.0],\n",
       "       [2017, 105264.0]], dtype=object)"
      ]
     },
     "execution_count": 10,
     "metadata": {},
     "output_type": "execute_result"
    }
   ],
   "source": [
    "year_population(\"Aruba\")"
   ]
  },
  {
   "cell_type": "markdown",
   "metadata": {
    "id": "U8xNysziZKk8"
   },
   "source": [
    "# **Question 2**\n",
    "## We must first divide our data into predictive features (X) and the target (y) before dividing it into training and testing.\n",
    "\n",
    "## ----------------------------------------------------------------------------------------------------------------------------------------------\n",
    "\n",
    "## Write a function that will take a dataframe as input `(Question 1)` and return four variables in the form of `(X_train, y_train), (X_test, y_test)` which you will use to train and evaluate your model\n",
    "## ----------------------------------------------------------------------------------------------------------------------------------------------\n",
    "\n",
    "## `test_size = 0.2` and `random_state = 42`.\n",
    "\n",
    "_**Use the results in Question 1 as Inputs:**_\n",
    "```python\n",
    "data = get_year_pop('Aruba')\n",
    "data_split(data)\n",
    "```\n",
    ">"
   ]
  },
  {
   "cell_type": "code",
   "execution_count": 11,
   "metadata": {
    "collapsed": true
   },
   "outputs": [],
   "source": [
    "def feature_response_split(arr):\n",
    "    X = arr[:, 0]\n",
    "    y = arr[:, 1]\n",
    "\n",
    "    from sklearn.model_selection import train_test_split\n",
    "    X_train, X_test, y_train, y_test = train_test_split(X, y, test_size=0.2, random_state = 42)\n",
    "\n",
    "    return (X_train, y_train), (X_test, y_test)"
   ]
  },
  {
   "cell_type": "code",
   "execution_count": 12,
   "metadata": {
    "collapsed": true,
    "id": "A98MCkxPaqpa"
   },
   "outputs": [],
   "source": [
    "data = year_population(\"Aruba\")\n",
    "(X_train, y_train), (X_test, y_test) = feature_response_split(data)"
   ]
  },
  {
   "cell_type": "code",
   "execution_count": 14,
   "metadata": {},
   "outputs": [
    {
     "data": {
      "text/plain": [
       "((array([1996, 1991, 1968, 1977, 1966, 1964, 2001, 1979, 1990, 2009, 2010,\n",
       "         2014, 1975, 1969, 1987, 1986, 1976, 1984, 1993, 2015, 2000, 1971,\n",
       "         1992, 2016, 2003, 1989, 2013, 1961, 1981, 1962, 2005, 1999, 1995,\n",
       "         1983, 2007, 1970, 1982, 1978, 2017, 1980, 1967, 2002, 1974, 1988,\n",
       "         2011, 1998], dtype=object),\n",
       "  array([83200.0, 64622.0, 58386.0, 60366.0, 57715.0, 57032.0, 92898.0,\n",
       "         59980.0, 62149.0, 101453.0, 101669.0, 103795.0, 60657.0, 58726.0,\n",
       "         61833.0, 62644.0, 60586.0, 62836.0, 72504.0, 104341.0, 90853.0,\n",
       "         59440.0, 68235.0, 104822.0, 97017.0, 61032.0, 103187.0, 55438.0,\n",
       "         60567.0, 56225.0, 100031.0, 89005.0, 80324.0, 62201.0, 101220.0,\n",
       "         59063.0, 61345.0, 60103.0, 105264.0, 60096.0, 58055.0, 94992.0,\n",
       "         60528.0, 61079.0, 102053.0, 87277.0], dtype=object)),\n",
       " (array([1960, 1965, 1994, 1973, 2004, 2012, 1997, 1985, 2006, 1972, 2008,\n",
       "         1963], dtype=object),\n",
       "  array([54211.0, 57360.0, 76700.0, 60243.0, 98737.0, 102577.0, 85451.0,\n",
       "         63026.0, 100832.0, 59840.0, 101353.0, 56695.0], dtype=object)))"
      ]
     },
     "execution_count": 14,
     "metadata": {},
     "output_type": "execute_result"
    }
   ],
   "source": [
    "data=year_population(\"Aruba\")\n",
    "feature_response_split(data)"
   ]
  },
  {
   "cell_type": "code",
   "execution_count": null,
   "metadata": {
    "collapsed": true
   },
   "outputs": [],
   "source": []
  },
  {
   "cell_type": "markdown",
   "metadata": {
    "id": "B58Bgs8GcgM0"
   },
   "source": [
    "# **Question 3**\n",
    "## Use the output from `data_split(df)` to fit a Linear regression model"
   ]
  },
  {
   "cell_type": "code",
   "execution_count": 19,
   "metadata": {
    "collapsed": true,
    "id": "4GP0nHNndIzs"
   },
   "outputs": [],
   "source": [
    "def train_model(X_train, y_train):\n",
    "    from sklearn.linear_model import Ridge\n",
    "\n",
    "    ridge = Ridge()\n",
    "    ridge.fit(X_train.reshape(-1, 1), y_train.reshape(-1, 1))\n",
    "\n",
    "    return ridge\n"
   ]
  },
  {
   "cell_type": "code",
   "execution_count": 20,
   "metadata": {},
   "outputs": [
    {
     "data": {
      "text/plain": [
       "array([[ 104468.15547163]])"
      ]
     },
     "execution_count": 20,
     "metadata": {},
     "output_type": "execute_result"
    }
   ],
   "source": [
    "data = year_population(\"Aruba\")\n",
    "(X_train, y_train), _ = feature_response_split(data)\n",
    "\n",
    "train_model(X_train, y_train).predict([[2017]])"
   ]
  },
  {
   "cell_type": "markdown",
   "metadata": {
    "id": "4Kt--bkjeICk"
   },
   "source": [
    "# **Question 4**\n",
    "Test your model using the testing data that was produced in Question 2. To use the `mean square error` as your performance metric.\n",
    "\n",
    "Write a function that accepts the `model` in Question 3, and the `test data set` in Question 2"
   ]
  },
  {
   "cell_type": "code",
   "execution_count": 22,
   "metadata": {
    "collapsed": true,
    "id": "bg5JqJfBe0_X"
   },
   "outputs": [],
   "source": [
    "def test_model(model, X_test, y_test):\n",
    "    from sklearn.metrics import mean_squared_error\n",
    "\n",
    "    y_pred = model.predict(X_test.reshape(-1, 1))\n",
    "\n",
    "    return round(mean_squared_error(y_test.reshape(-1, 1), y_pred), 2)\n"
   ]
  },
  {
   "cell_type": "code",
   "execution_count": 24,
   "metadata": {},
   "outputs": [
    {
     "data": {
      "text/plain": [
       "42483684.579999998"
      ]
     },
     "execution_count": 24,
     "metadata": {},
     "output_type": "execute_result"
    }
   ],
   "source": [
    "data = year_population(\"Aruba\")\n",
    "(X_train, y_train), (X_test, y_test) = feature_response_split(data)\n",
    "lm = train_model(X_train, y_train)\n",
    "\n",
    "test_model(lm, X_test, y_test)"
   ]
  },
  {
   "cell_type": "code",
   "execution_count": null,
   "metadata": {
    "collapsed": true
   },
   "outputs": [],
   "source": []
  }
 ],
 "metadata": {
  "colab": {
   "provenance": []
  },
  "kernelspec": {
   "display_name": "Python 3",
   "language": "python",
   "name": "python3"
  },
  "language_info": {
   "codemirror_mode": {
    "name": "ipython",
    "version": 3
   },
   "file_extension": ".py",
   "mimetype": "text/x-python",
   "name": "python",
   "nbconvert_exporter": "python",
   "pygments_lexer": "ipython3",
   "version": "3.6.3"
  }
 },
 "nbformat": 4,
 "nbformat_minor": 1
}
